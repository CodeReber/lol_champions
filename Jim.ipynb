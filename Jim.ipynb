{
 "cells": [
  {
   "cell_type": "code",
   "execution_count": 2,
   "metadata": {},
   "outputs": [],
   "source": [
    "import numpy as np\n",
    "import pandas as pd\n",
    "import requests\n",
    "import time\n",
    "from scipy.stats import linregress\n",
    "from matplotlib import pyplot as plt"
   ]
  },
  {
   "cell_type": "code",
   "execution_count": 3,
   "metadata": {},
   "outputs": [],
   "source": [
    "##GG web site data\n",
    "gg_data_bronze_df = pd.read_csv(\"gg_datafiles/bronze.csv\", encoding=\"utf-8\")\n",
    "gg_data_gold_df = pd.read_csv(\"gg_datafiles/gold.csv\", encoding=\"utf-8\")\n",
    "gg_data_platinum_df = pd.read_csv(\"gg_datafiles/platinum.csv\", encoding=\"utf-8\")\n",
    "gg_data_platinumplus_df = pd.read_csv(\"gg_datafiles/platinumplus.csv\", encoding=\"utf-8\")\n",
    "gg_data_silver_df = pd.read_csv(\"gg_datafiles/silver.csv\", encoding=\"utf-8\")\n",
    "####Time course data\n",
    "TC_data_columns_df = pd.read_csv(\"Timecourse_Datafiles/_columns.csv\", encoding=\"utf-8\")\n",
    "TC_data_bans_df = pd.read_csv(\"Timecourse_Datafiles/bans.csv\", encoding=\"utf-8\")\n",
    "TC_data_kills_df = pd.read_csv(\"Timecourse_Datafiles/kills.csv\", encoding=\"utf-8\")\n",
    "TC_data_LeagueofLegends_df = pd.read_csv(\"Timecourse_Datafiles/LeagueofLegends.csv\", encoding=\"utf-8\")\n",
    "TC_data_matchinfo_df = pd.read_csv(\"Timecourse_Datafiles/matchinfo.csv\", encoding=\"utf-8\")\n",
    "TC_data_structures_df = pd.read_csv(\"Timecourse_Datafiles/structures.csv\", encoding=\"utf-8\")"
   ]
  },
  {
   "cell_type": "code",
   "execution_count": 25,
   "metadata": {},
   "outputs": [
    {
     "data": {
      "text/html": [
       "<div>\n",
       "<style scoped>\n",
       "    .dataframe tbody tr th:only-of-type {\n",
       "        vertical-align: middle;\n",
       "    }\n",
       "\n",
       "    .dataframe tbody tr th {\n",
       "        vertical-align: top;\n",
       "    }\n",
       "\n",
       "    .dataframe thead th {\n",
       "        text-align: right;\n",
       "    }\n",
       "</style>\n",
       "<table border=\"1\" class=\"dataframe\">\n",
       "  <thead>\n",
       "    <tr style=\"text-align: right;\">\n",
       "      <th></th>\n",
       "      <th>Champion</th>\n",
       "      <th>Role</th>\n",
       "      <th>Win Percent</th>\n",
       "      <th>Kills</th>\n",
       "      <th>Deaths</th>\n",
       "      <th>Assists</th>\n",
       "    </tr>\n",
       "  </thead>\n",
       "  <tbody>\n",
       "    <tr>\n",
       "      <th>70</th>\n",
       "      <td>Katarina</td>\n",
       "      <td>Middle</td>\n",
       "      <td>48.21%</td>\n",
       "      <td>9.81</td>\n",
       "      <td>7.34</td>\n",
       "      <td>6.37</td>\n",
       "    </tr>\n",
       "    <tr>\n",
       "      <th>198</th>\n",
       "      <td>Zed</td>\n",
       "      <td>Middle</td>\n",
       "      <td>50.43%</td>\n",
       "      <td>9.77</td>\n",
       "      <td>6.66</td>\n",
       "      <td>6.00</td>\n",
       "    </tr>\n",
       "    <tr>\n",
       "      <th>40</th>\n",
       "      <td>Fizz</td>\n",
       "      <td>Middle</td>\n",
       "      <td>51.41%</td>\n",
       "      <td>9.48</td>\n",
       "      <td>6.21</td>\n",
       "      <td>6.12</td>\n",
       "    </tr>\n",
       "    <tr>\n",
       "      <th>169</th>\n",
       "      <td>Twitch</td>\n",
       "      <td>ADC</td>\n",
       "      <td>51.93%</td>\n",
       "      <td>9.15</td>\n",
       "      <td>6.51</td>\n",
       "      <td>7.59</td>\n",
       "    </tr>\n",
       "    <tr>\n",
       "      <th>157</th>\n",
       "      <td>Talon</td>\n",
       "      <td>Middle</td>\n",
       "      <td>46.81%</td>\n",
       "      <td>9.00</td>\n",
       "      <td>7.10</td>\n",
       "      <td>6.25</td>\n",
       "    </tr>\n",
       "  </tbody>\n",
       "</table>\n",
       "</div>"
      ],
      "text/plain": [
       "     Champion    Role Win Percent  Kills  Deaths  Assists\n",
       "70   Katarina  Middle      48.21%   9.81    7.34     6.37\n",
       "198       Zed  Middle      50.43%   9.77    6.66     6.00\n",
       "40       Fizz  Middle      51.41%   9.48    6.21     6.12\n",
       "169    Twitch     ADC      51.93%   9.15    6.51     7.59\n",
       "157     Talon  Middle      46.81%   9.00    7.10     6.25"
      ]
     },
     "execution_count": 25,
     "metadata": {},
     "output_type": "execute_result"
    }
   ],
   "source": [
    "#gg_data_bronze_df.head()\n",
    "reduced_gg_data_bronze_df = gg_data_bronze_df.loc[:, [\"Champion\", \"Role\", \"Win Percent\",\n",
    "                                    \"Kills\", \"Deaths\", \"Assists\"]]\n",
    "new = reduced_gg_data_bronze_df.sort_values(by=[\"Kills\"], ascending=False)\n",
    "reduced_dd_dropped_na_df = new.dropna()\n",
    "reduced_dd_dropped_na_df.head()\n",
    "reduced_dd_dropped_na_df2 = reduced_dd_dropped_na_df.head()\n",
    "reduced_dd_dropped_na_df2.head()\n",
    "#print(gg_data_bronze_df.columns.head())\n",
    "#print(gg_data_gold_df.columns)\n",
    "#print(TC_data_kills_df.head())\n",
    "#TC_data_LeagueofLegends_df.head()"
   ]
  },
  {
   "cell_type": "code",
   "execution_count": 26,
   "metadata": {},
   "outputs": [
    {
     "data": {
      "text/plain": [
       "<matplotlib.axes._subplots.AxesSubplot at 0x167d7958be0>"
      ]
     },
     "execution_count": 26,
     "metadata": {},
     "output_type": "execute_result"
    },
    {
     "data": {
      "image/png": "[encoded data removed]",
      "text/plain": [
       "<Figure size 432x288 with 1 Axes>"
      ]
     },
     "metadata": {
      "needs_background": "light"
     },
     "output_type": "display_data"
    }
   ],
   "source": [
    "#print(TC_data_kills_df.columns)\n",
    "#TC_data_matchinfo_df.head()\n",
    "#TC_data_bans_df.head()\n",
    "#plt.scatter(reduced_dd_dropped_na_df['Kills'],reduced_dd_dropped_na_df['Win Percent'])\n",
    "#clb = plt.colorbar()\n",
    "#plt.xlabel(\"Kills\")\n",
    "#plt.ylabel(\"Win Percent\")\n",
    "#plt.show()\n",
    "Champion_data = reduced_dd_dropped_na_df2[\"Champion\"].value_counts()\n",
    "Kills_data = reduced_dd_dropped_na_df2[\"Kills\"]\n",
    "battle_data = Champion_data.add(Kills_data, fill_value=0)\n",
    "battle_data.plot(kind=\"bar\", facecolor=\"red\")\n",
    "#defender_data = got_data[\"defender_king\"].value_counts()"
   ]
  },
  {
   "cell_type": "code",
   "execution_count": null,
   "metadata": {},
   "outputs": [],
   "source": []
  }
 ],
 "metadata": {
  "kernelspec": {
   "display_name": "Python [conda env:PythonData] *",
   "language": "python",
   "name": "conda-env-PythonData-py"
  },
  "language_info": {
   "codemirror_mode": {
    "name": "ipython",
    "version": 3
   },
   "file_extension": ".py",
   "mimetype": "text/x-python",
   "name": "python",
   "nbconvert_exporter": "python",
   "pygments_lexer": "ipython3",
   "version": "3.6.10"
  }
 },
 "nbformat": 4,
 "nbformat_minor": 4
}
