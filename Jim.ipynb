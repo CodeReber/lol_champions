{
 "cells": [
  {
   "cell_type": "code",
   "execution_count": 4,
   "metadata": {},
   "outputs": [],
   "source": [
    "import numpy as np\n",
    "import pandas as pd\n",
    "import requests\n",
    "import time\n",
    "from scipy.stats import linregress\n",
    "from matplotlib import pyplot as plt"
   ]
  },
  {
   "cell_type": "code",
   "execution_count": 10,
   "metadata": {},
   "outputs": [],
   "source": [
    "##GG web site data\n",
    "gg_data_bronze_df = pd.read_csv(\"gg_datafiles/bronze.csv\", encoding=\"utf-8\")\n",
    "gg_data_gold_df = pd.read_csv(\"gg_datafiles/gold.csv\", encoding=\"utf-8\")\n",
    "gg_data_platinum_df = pd.read_csv(\"gg_datafiles/platinum.csv\", encoding=\"utf-8\")\n",
    "gg_data_platinumplus_df = pd.read_csv(\"gg_datafiles/platinumplus.csv\", encoding=\"utf-8\")\n",
    "gg_data_silver_df = pd.read_csv(\"gg_datafiles/silver.csv\", encoding=\"utf-8\")\n",
    "####Time course data\n",
    "TC_data_columns_df = pd.read_csv(\"Timecourse_Datafiles/_columns.csv\", encoding=\"utf-8\")\n",
    "TC_data_bans_df = pd.read_csv(\"Timecourse_Datafiles/bans.csv\", encoding=\"utf-8\")\n",
    "TC_data_kills_df = pd.read_csv(\"Timecourse_Datafiles/kills.csv\", encoding=\"utf-8\")\n",
    "TC_data_LeagueofLegends_df = pd.read_csv(\"Timecourse_Datafiles/LeagueofLegends.csv\", encoding=\"utf-8\")\n",
    "TC_data_matchinfo_df = pd.read_csv(\"Timecourse_Datafiles/matchinfo.csv\", encoding=\"utf-8\")\n",
    "TC_data_structures_df = pd.read_csv(\"Timecourse_Datafiles/structures.csv\", encoding=\"utf-8\")"
   ]
  },
  {
   "cell_type": "code",
   "execution_count": 12,
   "metadata": {},
   "outputs": [
    {
     "name": "stdout",
     "output_type": "stream",
     "text": [
      "Index(['Rank', 'Champion', 'Role', 'Win Percent', 'Play Percent', 'Ban Rate',\n",
      "       'Playerbase Avg. Games', 'Kills', 'Deaths', 'Assists',\n",
      "       'Largest Killing Spree', 'Damage Dealt', 'Damage Taken',\n",
      "       'Total Healing', 'Minions Killed', 'Enemy Jungle CS', 'Team Jungle CS',\n",
      "       'Gold Earned', 'Role Position', 'Position Change'],\n",
      "      dtype='object')\n",
      "Index(['Rank', 'Champion', 'Role', 'Win Percent', 'Play Percent', 'Ban Rate',\n",
      "       'Playerbase Avg. Games', 'Kills', 'Deaths', 'Assists',\n",
      "       'Largest Killing Spree', 'Damage Dealt', 'Damage Taken',\n",
      "       'Total Healing', 'Minions Killed', 'Enemy Jungle CS', 'Team Jungle CS',\n",
      "       'Gold Earned', 'Role Position', 'Position Change'],\n",
      "      dtype='object')\n"
     ]
    }
   ],
   "source": [
    "print(gg_data_bronze_df.columns)\n",
    "print(gg_data_gold_df.columns)"
   ]
  },
  {
   "cell_type": "code",
   "execution_count": 15,
   "metadata": {},
   "outputs": [
    {
     "name": "stdout",
     "output_type": "stream",
     "text": [
      "Index(['Address', 'Team', 'Time', 'Victim', 'Killer', 'Assist_1', 'Assist_2',\n",
      "       'Assist_3', 'Assist_4', 'x_pos', 'y_pos'],\n",
      "      dtype='object')\n",
      "Index(['League', 'Year', 'Season', 'Type', 'blueTeamTag', 'bResult', 'rResult',\n",
      "       'redTeamTag', 'gamelength', 'blueTop', 'blueTopChamp', 'blueJungle',\n",
      "       'blueJungleChamp', 'blueMiddle', 'blueMiddleChamp', 'blueADC',\n",
      "       'blueADCChamp', 'blueSupport', 'blueSupportChamp', 'redTop',\n",
      "       'redTopChamp', 'redJungle', 'redJungleChamp', 'redMiddle',\n",
      "       'redMiddleChamp', 'redADC', 'redADCChamp', 'redSupport',\n",
      "       'redSupportChamp', 'Address'],\n",
      "      dtype='object')\n"
     ]
    }
   ],
   "source": [
    "print(TC_data_kills_df.columns)\n",
    "print(TC_data_matchinfo_df.columns)"
   ]
  },
  {
   "cell_type": "code",
   "execution_count": null,
   "metadata": {},
   "outputs": [],
   "source": []
  }
 ],
 "metadata": {
  "kernelspec": {
   "display_name": "Python [conda env:PythonData] *",
   "language": "python",
   "name": "conda-env-PythonData-py"
  },
  "language_info": {
   "codemirror_mode": {
    "name": "ipython",
    "version": 3
   },
   "file_extension": ".py",
   "mimetype": "text/x-python",
   "name": "python",
   "nbconvert_exporter": "python",
   "pygments_lexer": "ipython3",
   "version": "3.6.10"
  }
 },
 "nbformat": 4,
 "nbformat_minor": 4
}
