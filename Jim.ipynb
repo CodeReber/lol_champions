{
 "cells": [
  {
   "cell_type": "code",
   "execution_count": 1,
   "metadata": {},
   "outputs": [],
   "source": [
    "import numpy as np\n",
    "import pandas as pd\n",
    "import requests\n",
    "import time\n",
    "from scipy.stats import linregress\n",
    "from matplotlib import pyplot as plt"
   ]
  },
  {
   "cell_type": "markdown",
   "metadata": {},
   "source": [
    "## Import the Data files\n"
   ]
  },
  {
   "cell_type": "code",
   "execution_count": 2,
   "metadata": {},
   "outputs": [],
   "source": [
    "##GG web site data\n",
    "bronze_df = pd.read_csv(\"gg_datafiles/bronze.csv\", encoding=\"utf-8\")\n",
    "gold_df = pd.read_csv(\"gg_datafiles/gold.csv\", encoding=\"utf-8\")\n",
    "platinum_df = pd.read_csv(\"gg_datafiles/platinum.csv\", encoding=\"utf-8\")\n",
    "platinumplus_df = pd.read_csv(\"gg_datafiles/platinumplus.csv\", encoding=\"utf-8\")\n",
    "silver_df = pd.read_csv(\"gg_datafiles/silver.csv\", encoding=\"utf-8\")\n",
    "####Time course data\n",
    "TC_data_columns_df = pd.read_csv(\"Timecourse_Datafiles/_columns.csv\", encoding=\"utf-8\")\n",
    "TC_data_bans_df = pd.read_csv(\"Timecourse_Datafiles/bans.csv\", encoding=\"utf-8\")\n",
    "TC_data_kills_df = pd.read_csv(\"Timecourse_Datafiles/kills.csv\", encoding=\"utf-8\")\n",
    "TC_data_LeagueofLegends_df = pd.read_csv(\"Timecourse_Datafiles/LeagueofLegends.csv\", encoding=\"utf-8\")\n",
    "TC_data_matchinfo_df = pd.read_csv(\"Timecourse_Datafiles/matchinfo.csv\", encoding=\"utf-8\")\n",
    "TC_data_structures_df = pd.read_csv(\"Timecourse_Datafiles/structures.csv\", encoding=\"utf-8\")\n",
    "#####2018-2020\n",
    "champions_df = pd.read_csv(\"2018_2020_data/champion.csv\", encoding=\"utf-8\")\n",
    "players_df = pd.read_csv(\"2018_2020_data/players.csv\", encoding=\"utf-8\")\n",
    "teams_df = pd.read_csv(\"2018_2020_data/teams.csv\", encoding=\"utf-8\")\n"
   ]
  },
  {
   "cell_type": "markdown",
   "metadata": {},
   "source": [
    "## Set up the data to be analyzed"
   ]
  },
  {
   "cell_type": "code",
   "execution_count": 3,
   "metadata": {},
   "outputs": [],
   "source": [
    "#Create a new column to specify the league for stacking the dataset\n",
    "bronze_df[\"League\"] = \"Bronze\"\n",
    "gold_df[\"League\"] = \"Gold\"\n",
    "platinum_df[\"League\"] = \"Platinum\"\n",
    "platinumplus_df[\"League\"] = \"Platinum Plus\"\n",
    "silver_df[\"League\"] = \"Silver\"\n",
    "\n",
    "#Create stacked combined dataset\n",
    "stack_df = pd.concat([bronze_df, \n",
    "                      gold_df, \n",
    "                      platinum_df, \n",
    "                      platinumplus_df,\n",
    "                      silver_df], axis = 0)"
   ]
  },
  {
   "cell_type": "code",
   "execution_count": 4,
   "metadata": {},
   "outputs": [
    {
     "data": {
      "text/html": [
       "<div>\n",
       "<style scoped>\n",
       "    .dataframe tbody tr th:only-of-type {\n",
       "        vertical-align: middle;\n",
       "    }\n",
       "\n",
       "    .dataframe tbody tr th {\n",
       "        vertical-align: top;\n",
       "    }\n",
       "\n",
       "    .dataframe thead th {\n",
       "        text-align: right;\n",
       "    }\n",
       "</style>\n",
       "<table border=\"1\" class=\"dataframe\">\n",
       "  <thead>\n",
       "    <tr style=\"text-align: right;\">\n",
       "      <th></th>\n",
       "      <th>Kills</th>\n",
       "      <th>Deaths</th>\n",
       "      <th>Assists</th>\n",
       "      <th>Minions Killed</th>\n",
       "    </tr>\n",
       "  </thead>\n",
       "  <tbody>\n",
       "    <tr>\n",
       "      <th>1</th>\n",
       "      <td>6.82</td>\n",
       "      <td>5.69</td>\n",
       "      <td>7.73</td>\n",
       "      <td>140.2</td>\n",
       "    </tr>\n",
       "    <tr>\n",
       "      <th>2</th>\n",
       "      <td>8.45</td>\n",
       "      <td>6.61</td>\n",
       "      <td>5.48</td>\n",
       "      <td>133.9</td>\n",
       "    </tr>\n",
       "    <tr>\n",
       "      <th>6</th>\n",
       "      <td>5.94</td>\n",
       "      <td>4.96</td>\n",
       "      <td>7.49</td>\n",
       "      <td>158.3</td>\n",
       "    </tr>\n",
       "    <tr>\n",
       "      <th>8</th>\n",
       "      <td>7.91</td>\n",
       "      <td>6.49</td>\n",
       "      <td>7.80</td>\n",
       "      <td>139.4</td>\n",
       "    </tr>\n",
       "    <tr>\n",
       "      <th>12</th>\n",
       "      <td>5.70</td>\n",
       "      <td>5.95</td>\n",
       "      <td>8.82</td>\n",
       "      <td>132.2</td>\n",
       "    </tr>\n",
       "    <tr>\n",
       "      <th>...</th>\n",
       "      <td>...</td>\n",
       "      <td>...</td>\n",
       "      <td>...</td>\n",
       "      <td>...</td>\n",
       "    </tr>\n",
       "    <tr>\n",
       "      <th>173</th>\n",
       "      <td>6.75</td>\n",
       "      <td>5.02</td>\n",
       "      <td>8.59</td>\n",
       "      <td>162.2</td>\n",
       "    </tr>\n",
       "    <tr>\n",
       "      <th>177</th>\n",
       "      <td>7.27</td>\n",
       "      <td>7.02</td>\n",
       "      <td>5.74</td>\n",
       "      <td>176.2</td>\n",
       "    </tr>\n",
       "    <tr>\n",
       "      <th>181</th>\n",
       "      <td>9.09</td>\n",
       "      <td>6.41</td>\n",
       "      <td>5.59</td>\n",
       "      <td>158.1</td>\n",
       "    </tr>\n",
       "    <tr>\n",
       "      <th>182</th>\n",
       "      <td>5.58</td>\n",
       "      <td>5.55</td>\n",
       "      <td>7.71</td>\n",
       "      <td>170.2</td>\n",
       "    </tr>\n",
       "    <tr>\n",
       "      <th>184</th>\n",
       "      <td>6.62</td>\n",
       "      <td>5.65</td>\n",
       "      <td>7.17</td>\n",
       "      <td>145.4</td>\n",
       "    </tr>\n",
       "  </tbody>\n",
       "</table>\n",
       "<p>211 rows × 4 columns</p>\n",
       "</div>"
      ],
      "text/plain": [
       "     Kills  Deaths  Assists  Minions Killed\n",
       "1     6.82    5.69     7.73           140.2\n",
       "2     8.45    6.61     5.48           133.9\n",
       "6     5.94    4.96     7.49           158.3\n",
       "8     7.91    6.49     7.80           139.4\n",
       "12    5.70    5.95     8.82           132.2\n",
       "..     ...     ...      ...             ...\n",
       "173   6.75    5.02     8.59           162.2\n",
       "177   7.27    7.02     5.74           176.2\n",
       "181   9.09    6.41     5.59           158.1\n",
       "182   5.58    5.55     7.71           170.2\n",
       "184   6.62    5.65     7.17           145.4\n",
       "\n",
       "[211 rows x 4 columns]"
      ]
     },
     "execution_count": 4,
     "metadata": {},
     "output_type": "execute_result"
    }
   ],
   "source": [
    "stack_df.loc[stack_df.Role == \"Middle\"][[\"Kills\",\"Deaths\",\"Assists\",\"Minions Killed\"]]\n"
   ]
  },
  {
   "cell_type": "code",
   "execution_count": 5,
   "metadata": {},
   "outputs": [
    {
     "data": {
      "text/html": [
       "<div>\n",
       "<style scoped>\n",
       "    .dataframe tbody tr th:only-of-type {\n",
       "        vertical-align: middle;\n",
       "    }\n",
       "\n",
       "    .dataframe tbody tr th {\n",
       "        vertical-align: top;\n",
       "    }\n",
       "\n",
       "    .dataframe thead th {\n",
       "        text-align: right;\n",
       "    }\n",
       "</style>\n",
       "<table border=\"1\" class=\"dataframe\">\n",
       "  <thead>\n",
       "    <tr style=\"text-align: right;\">\n",
       "      <th></th>\n",
       "      <th>Kills</th>\n",
       "      <th>Deaths</th>\n",
       "      <th>Assists</th>\n",
       "      <th>Minions Killed</th>\n",
       "    </tr>\n",
       "    <tr>\n",
       "      <th>Champion</th>\n",
       "      <th></th>\n",
       "      <th></th>\n",
       "      <th></th>\n",
       "      <th></th>\n",
       "    </tr>\n",
       "  </thead>\n",
       "  <tbody>\n",
       "    <tr>\n",
       "      <th>Ahri</th>\n",
       "      <td>6.6500</td>\n",
       "      <td>5.490</td>\n",
       "      <td>7.6720</td>\n",
       "      <td>153.360</td>\n",
       "    </tr>\n",
       "    <tr>\n",
       "      <th>Akali</th>\n",
       "      <td>8.1620</td>\n",
       "      <td>6.326</td>\n",
       "      <td>5.3820</td>\n",
       "      <td>144.940</td>\n",
       "    </tr>\n",
       "    <tr>\n",
       "      <th>Anivia</th>\n",
       "      <td>5.8300</td>\n",
       "      <td>4.665</td>\n",
       "      <td>7.5025</td>\n",
       "      <td>170.500</td>\n",
       "    </tr>\n",
       "    <tr>\n",
       "      <th>Annie</th>\n",
       "      <td>7.6000</td>\n",
       "      <td>6.200</td>\n",
       "      <td>7.6060</td>\n",
       "      <td>150.940</td>\n",
       "    </tr>\n",
       "    <tr>\n",
       "      <th>Aurelion Sol</th>\n",
       "      <td>5.7125</td>\n",
       "      <td>5.590</td>\n",
       "      <td>8.6950</td>\n",
       "      <td>145.425</td>\n",
       "    </tr>\n",
       "  </tbody>\n",
       "</table>\n",
       "</div>"
      ],
      "text/plain": [
       "               Kills  Deaths  Assists  Minions Killed\n",
       "Champion                                             \n",
       "Ahri          6.6500   5.490   7.6720         153.360\n",
       "Akali         8.1620   6.326   5.3820         144.940\n",
       "Anivia        5.8300   4.665   7.5025         170.500\n",
       "Annie         7.6000   6.200   7.6060         150.940\n",
       "Aurelion Sol  5.7125   5.590   8.6950         145.425"
      ]
     },
     "execution_count": 5,
     "metadata": {},
     "output_type": "execute_result"
    }
   ],
   "source": [
    "Jim_group = stack_df.loc[stack_df.Role == \"Middle\"].groupby(\"Champion\")[[\"Kills\",\"Deaths\",\"Assists\",\"Minions Killed\"]].mean()\n",
    "Jim_group.head()"
   ]
  },
  {
   "cell_type": "markdown",
   "metadata": {},
   "source": [
    "#  Mid Role Analysis\n",
    "\n",
    "### - High kills (G)\n",
    "### - Low deaths (G)\n",
    "### - High assist (G)\n",
    "### - High minions kills (G)\n",
    "\n"
   ]
  },
  {
   "cell_type": "code",
   "execution_count": 6,
   "metadata": {},
   "outputs": [
    {
     "data": {
      "text/html": [
       "<div>\n",
       "<style scoped>\n",
       "    .dataframe tbody tr th:only-of-type {\n",
       "        vertical-align: middle;\n",
       "    }\n",
       "\n",
       "    .dataframe tbody tr th {\n",
       "        vertical-align: top;\n",
       "    }\n",
       "\n",
       "    .dataframe thead th {\n",
       "        text-align: right;\n",
       "    }\n",
       "</style>\n",
       "<table border=\"1\" class=\"dataframe\">\n",
       "  <thead>\n",
       "    <tr style=\"text-align: right;\">\n",
       "      <th></th>\n",
       "      <th>Kills</th>\n",
       "    </tr>\n",
       "    <tr>\n",
       "      <th>Champion</th>\n",
       "      <th></th>\n",
       "    </tr>\n",
       "  </thead>\n",
       "  <tbody>\n",
       "    <tr>\n",
       "      <th>Katarina</th>\n",
       "      <td>9.466</td>\n",
       "    </tr>\n",
       "    <tr>\n",
       "      <th>Zed</th>\n",
       "      <td>9.216</td>\n",
       "    </tr>\n",
       "    <tr>\n",
       "      <th>Fizz</th>\n",
       "      <td>8.842</td>\n",
       "    </tr>\n",
       "    <tr>\n",
       "      <th>Talon</th>\n",
       "      <td>8.828</td>\n",
       "    </tr>\n",
       "    <tr>\n",
       "      <th>Nocturne</th>\n",
       "      <td>8.405</td>\n",
       "    </tr>\n",
       "    <tr>\n",
       "      <th>Qiyana</th>\n",
       "      <td>8.356</td>\n",
       "    </tr>\n",
       "    <tr>\n",
       "      <th>Akali</th>\n",
       "      <td>8.162</td>\n",
       "    </tr>\n",
       "    <tr>\n",
       "      <th>Kassadin</th>\n",
       "      <td>8.070</td>\n",
       "    </tr>\n",
       "    <tr>\n",
       "      <th>Irelia</th>\n",
       "      <td>7.918</td>\n",
       "    </tr>\n",
       "    <tr>\n",
       "      <th>Jayce</th>\n",
       "      <td>7.860</td>\n",
       "    </tr>\n",
       "  </tbody>\n",
       "</table>\n",
       "</div>"
      ],
      "text/plain": [
       "          Kills\n",
       "Champion       \n",
       "Katarina  9.466\n",
       "Zed       9.216\n",
       "Fizz      8.842\n",
       "Talon     8.828\n",
       "Nocturne  8.405\n",
       "Qiyana    8.356\n",
       "Akali     8.162\n",
       "Kassadin  8.070\n",
       "Irelia    7.918\n",
       "Jayce     7.860"
      ]
     },
     "execution_count": 6,
     "metadata": {},
     "output_type": "execute_result"
    }
   ],
   "source": [
    "kills_df = Jim_group.sort_values(\"Kills\",ascending=False)[[\"Kills\"]].head(10)\n",
    "kills_df"
   ]
  },
  {
   "cell_type": "code",
   "execution_count": 7,
   "metadata": {},
   "outputs": [
    {
     "data": {
      "image/png": "[encoded data removed]",
      "text/plain": [
       "<Figure size 432x288 with 1 Axes>"
      ]
     },
     "metadata": {
      "needs_background": "light"
     },
     "output_type": "display_data"
    }
   ],
   "source": [
    "kills_graph = kills_df.plot(kind=\"bar\", color=\"red\")\n",
    "kills_graph.set_ylabel(\"High Kills\")\n",
    "\n",
    "plt.title(\"Middle Champions: Mid Highest Kills\")\n",
    "#plt.grid()\n",
    "plt.show()"
   ]
  },
  {
   "cell_type": "code",
   "execution_count": 8,
   "metadata": {},
   "outputs": [
    {
     "data": {
      "text/html": [
       "<div>\n",
       "<style scoped>\n",
       "    .dataframe tbody tr th:only-of-type {\n",
       "        vertical-align: middle;\n",
       "    }\n",
       "\n",
       "    .dataframe tbody tr th {\n",
       "        vertical-align: top;\n",
       "    }\n",
       "\n",
       "    .dataframe thead th {\n",
       "        text-align: right;\n",
       "    }\n",
       "</style>\n",
       "<table border=\"1\" class=\"dataframe\">\n",
       "  <thead>\n",
       "    <tr style=\"text-align: right;\">\n",
       "      <th></th>\n",
       "      <th>Deaths</th>\n",
       "    </tr>\n",
       "    <tr>\n",
       "      <th>Champion</th>\n",
       "      <th></th>\n",
       "    </tr>\n",
       "  </thead>\n",
       "  <tbody>\n",
       "    <tr>\n",
       "      <th>Zilean</th>\n",
       "      <td>4.420</td>\n",
       "    </tr>\n",
       "    <tr>\n",
       "      <th>Anivia</th>\n",
       "      <td>4.665</td>\n",
       "    </tr>\n",
       "    <tr>\n",
       "      <th>Xerath</th>\n",
       "      <td>5.044</td>\n",
       "    </tr>\n",
       "    <tr>\n",
       "      <th>LeBlanc</th>\n",
       "      <td>5.188</td>\n",
       "    </tr>\n",
       "    <tr>\n",
       "      <th>Lux</th>\n",
       "      <td>5.314</td>\n",
       "    </tr>\n",
       "    <tr>\n",
       "      <th>Orianna</th>\n",
       "      <td>5.406</td>\n",
       "    </tr>\n",
       "    <tr>\n",
       "      <th>Galio</th>\n",
       "      <td>5.440</td>\n",
       "    </tr>\n",
       "    <tr>\n",
       "      <th>Ahri</th>\n",
       "      <td>5.490</td>\n",
       "    </tr>\n",
       "    <tr>\n",
       "      <th>Malzahar</th>\n",
       "      <td>5.548</td>\n",
       "    </tr>\n",
       "    <tr>\n",
       "      <th>Vladimir</th>\n",
       "      <td>5.562</td>\n",
       "    </tr>\n",
       "  </tbody>\n",
       "</table>\n",
       "</div>"
      ],
      "text/plain": [
       "          Deaths\n",
       "Champion        \n",
       "Zilean     4.420\n",
       "Anivia     4.665\n",
       "Xerath     5.044\n",
       "LeBlanc    5.188\n",
       "Lux        5.314\n",
       "Orianna    5.406\n",
       "Galio      5.440\n",
       "Ahri       5.490\n",
       "Malzahar   5.548\n",
       "Vladimir   5.562"
      ]
     },
     "execution_count": 8,
     "metadata": {},
     "output_type": "execute_result"
    }
   ],
   "source": [
    "low_deaths_df = Jim_group.sort_values(\"Deaths\")[[\"Deaths\"]].head(10)\n",
    "low_deaths_df"
   ]
  },
  {
   "cell_type": "code",
   "execution_count": 10,
   "metadata": {},
   "outputs": [
    {
     "data": {
      "image/png": "[encoded data removed]",
      "text/plain": [
       "<Figure size 432x288 with 1 Axes>"
      ]
     },
     "metadata": {
      "needs_background": "light"
     },
     "output_type": "display_data"
    }
   ],
   "source": [
    "low_deaths_graph = low_deaths_df.plot(kind=\"bar\",color=\"blue\")\n",
    "low_deaths_graph.set_ylabel(\"Low Deaths\")\n",
    "plt.title(\"Middle Champions: Mid Lowest Deaths\")\n",
    "#plt.grid()\n",
    "plt.show()"
   ]
  },
  {
   "cell_type": "code",
   "execution_count": 10,
   "metadata": {},
   "outputs": [
    {
     "data": {
      "text/html": [
       "<div>\n",
       "<style scoped>\n",
       "    .dataframe tbody tr th:only-of-type {\n",
       "        vertical-align: middle;\n",
       "    }\n",
       "\n",
       "    .dataframe tbody tr th {\n",
       "        vertical-align: top;\n",
       "    }\n",
       "\n",
       "    .dataframe thead th {\n",
       "        text-align: right;\n",
       "    }\n",
       "</style>\n",
       "<table border=\"1\" class=\"dataframe\">\n",
       "  <thead>\n",
       "    <tr style=\"text-align: right;\">\n",
       "      <th></th>\n",
       "      <th>Assists</th>\n",
       "    </tr>\n",
       "    <tr>\n",
       "      <th>Champion</th>\n",
       "      <th></th>\n",
       "    </tr>\n",
       "  </thead>\n",
       "  <tbody>\n",
       "    <tr>\n",
       "      <th>Zilean</th>\n",
       "      <td>10.780000</td>\n",
       "    </tr>\n",
       "    <tr>\n",
       "      <th>Nunu &amp; Willump</th>\n",
       "      <td>10.506667</td>\n",
       "    </tr>\n",
       "    <tr>\n",
       "      <th>Galio</th>\n",
       "      <td>9.942000</td>\n",
       "    </tr>\n",
       "    <tr>\n",
       "      <th>Orianna</th>\n",
       "      <td>9.336000</td>\n",
       "    </tr>\n",
       "    <tr>\n",
       "      <th>Lux</th>\n",
       "      <td>9.242000</td>\n",
       "    </tr>\n",
       "    <tr>\n",
       "      <th>Lissandra</th>\n",
       "      <td>8.892000</td>\n",
       "    </tr>\n",
       "    <tr>\n",
       "      <th>Karthus</th>\n",
       "      <td>8.873333</td>\n",
       "    </tr>\n",
       "    <tr>\n",
       "      <th>Aurelion Sol</th>\n",
       "      <td>8.695000</td>\n",
       "    </tr>\n",
       "    <tr>\n",
       "      <th>Xerath</th>\n",
       "      <td>8.652000</td>\n",
       "    </tr>\n",
       "    <tr>\n",
       "      <th>Twisted Fate</th>\n",
       "      <td>8.552000</td>\n",
       "    </tr>\n",
       "  </tbody>\n",
       "</table>\n",
       "</div>"
      ],
      "text/plain": [
       "                  Assists\n",
       "Champion                 \n",
       "Zilean          10.780000\n",
       "Nunu & Willump  10.506667\n",
       "Galio            9.942000\n",
       "Orianna          9.336000\n",
       "Lux              9.242000\n",
       "Lissandra        8.892000\n",
       "Karthus          8.873333\n",
       "Aurelion Sol     8.695000\n",
       "Xerath           8.652000\n",
       "Twisted Fate     8.552000"
      ]
     },
     "execution_count": 10,
     "metadata": {},
     "output_type": "execute_result"
    }
   ],
   "source": [
    "high_assists_df = Jim_group.sort_values(\"Assists\",ascending=False)[[\"Assists\"]].head(10)\n",
    "high_assists_df"
   ]
  },
  {
   "cell_type": "code",
   "execution_count": 11,
   "metadata": {},
   "outputs": [
    {
     "data": {
      "image/png": "[encoded data removed]",
      "text/plain": [
       "<Figure size 432x288 with 1 Axes>"
      ]
     },
     "metadata": {
      "needs_background": "light"
     },
     "output_type": "display_data"
    }
   ],
   "source": [
    "high_assists_graph = high_assists_df.plot(color=\"yellow\",linewidth=10)\n",
    "high_assists_graph.set_ylabel(\"High Assists\")\n",
    "plt.title(\"Middle Champions: Mid High Assists\")\n",
    "plt.grid()\n",
    "plt.show()"
   ]
  },
  {
   "cell_type": "code",
   "execution_count": 12,
   "metadata": {},
   "outputs": [
    {
     "data": {
      "text/html": [
       "<div>\n",
       "<style scoped>\n",
       "    .dataframe tbody tr th:only-of-type {\n",
       "        vertical-align: middle;\n",
       "    }\n",
       "\n",
       "    .dataframe tbody tr th {\n",
       "        vertical-align: top;\n",
       "    }\n",
       "\n",
       "    .dataframe thead th {\n",
       "        text-align: right;\n",
       "    }\n",
       "</style>\n",
       "<table border=\"1\" class=\"dataframe\">\n",
       "  <thead>\n",
       "    <tr style=\"text-align: right;\">\n",
       "      <th></th>\n",
       "      <th>Minions Killed</th>\n",
       "    </tr>\n",
       "    <tr>\n",
       "      <th>Champion</th>\n",
       "      <th></th>\n",
       "    </tr>\n",
       "  </thead>\n",
       "  <tbody>\n",
       "    <tr>\n",
       "      <th>Irelia</th>\n",
       "      <td>190.30</td>\n",
       "    </tr>\n",
       "    <tr>\n",
       "      <th>Malzahar</th>\n",
       "      <td>183.88</td>\n",
       "    </tr>\n",
       "    <tr>\n",
       "      <th>Kog'Maw</th>\n",
       "      <td>182.60</td>\n",
       "    </tr>\n",
       "    <tr>\n",
       "      <th>Ryze</th>\n",
       "      <td>182.28</td>\n",
       "    </tr>\n",
       "    <tr>\n",
       "      <th>Corki</th>\n",
       "      <td>178.64</td>\n",
       "    </tr>\n",
       "    <tr>\n",
       "      <th>Yasuo</th>\n",
       "      <td>178.44</td>\n",
       "    </tr>\n",
       "    <tr>\n",
       "      <th>Vladimir</th>\n",
       "      <td>177.94</td>\n",
       "    </tr>\n",
       "    <tr>\n",
       "      <th>Viktor</th>\n",
       "      <td>176.72</td>\n",
       "    </tr>\n",
       "    <tr>\n",
       "      <th>Karthus</th>\n",
       "      <td>176.60</td>\n",
       "    </tr>\n",
       "    <tr>\n",
       "      <th>Ziggs</th>\n",
       "      <td>173.92</td>\n",
       "    </tr>\n",
       "  </tbody>\n",
       "</table>\n",
       "</div>"
      ],
      "text/plain": [
       "          Minions Killed\n",
       "Champion                \n",
       "Irelia            190.30\n",
       "Malzahar          183.88\n",
       "Kog'Maw           182.60\n",
       "Ryze              182.28\n",
       "Corki             178.64\n",
       "Yasuo             178.44\n",
       "Vladimir          177.94\n",
       "Viktor            176.72\n",
       "Karthus           176.60\n",
       "Ziggs             173.92"
      ]
     },
     "execution_count": 12,
     "metadata": {},
     "output_type": "execute_result"
    }
   ],
   "source": [
    "high_minion_killed_df = Jim_group.sort_values(\"Minions Killed\",ascending=False)[[\"Minions Killed\"]].head(10)\n",
    "high_minion_killed_df"
   ]
  },
  {
   "cell_type": "code",
   "execution_count": 13,
   "metadata": {},
   "outputs": [
    {
     "data": {
      "image/png": "[encoded data removed]",
      "text/plain": [
       "<Figure size 432x288 with 1 Axes>"
      ]
     },
     "metadata": {
      "needs_background": "light"
     },
     "output_type": "display_data"
    }
   ],
   "source": [
    "high_minion_killed_graph = high_minion_killed_df.plot(color=\"purple\",linewidth=10)\n",
    "high_minion_killed_graph.set_ylabel(\"High Minion Killed\")\n",
    "plt.title(\"Middle Champions: Mid High Minion Killed\")\n",
    "plt.grid()\n",
    "plt.show()"
   ]
  },
  {
   "cell_type": "code",
   "execution_count": 14,
   "metadata": {},
   "outputs": [
    {
     "data": {
      "image/png": "[encoded data removed]",
      "text/plain": [
       "<Figure size 432x288 with 1 Axes>"
      ]
     },
     "metadata": {
      "needs_background": "light"
     },
     "output_type": "display_data"
    }
   ],
   "source": [
    "reduced_champions_df = champions_df.groupby([\"Champion\"]).mean()\n",
    "\n",
    "#reduced_champions_df.head()\n",
    "new = reduced_champions_df.sort_values([\"picks\"],ascending=False)[\"picks\"]\n",
    "healing_graph = new.head(10).plot(kind=\"bar\")\n",
    "healing_graph.set_ylabel(\"picks\")\n",
    "plt.title(\"Highest Picks: From 2018 to 2020\")\n",
    "plt.show()\n",
    "\n",
    "#new = reduced_champions_df[\"picks\"]\n",
    "#new.sort_values\n",
    "#print(gg_data_bronze_df.columns.head())\n",
    "#print(gg_data_gold_df.columns)\n",
    "#print(TC_data_kills_df.head())\n",
    "#TC_data_LeagueofLegends_df.head()"
   ]
  },
  {
   "cell_type": "code",
   "execution_count": null,
   "metadata": {},
   "outputs": [],
   "source": []
  }
 ],
 "metadata": {
  "kernelspec": {
   "display_name": "Python 3",
   "language": "python",
   "name": "python3"
  },
  "language_info": {
   "codemirror_mode": {
    "name": "ipython",
    "version": 3
   },
   "file_extension": ".py",
   "mimetype": "text/x-python",
   "name": "python",
   "nbconvert_exporter": "python",
   "pygments_lexer": "ipython3",
   "version": "3.7.6"
  }
 },
 "nbformat": 4,
 "nbformat_minor": 4
}
