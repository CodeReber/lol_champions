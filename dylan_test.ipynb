{
 "cells": [
  {
   "cell_type": "code",
   "execution_count": 7,
   "metadata": {},
   "outputs": [
    {
     "name": "stdout",
     "output_type": "stream",
     "text": [
      "{\n",
      "    \"accountId\": \"2YFpFU2hXZTfbcxIZCfqttBjibN0hkY-dfLT5D9k2fqi8w\",\n",
      "    \"id\": \"ch_DKLck8fWJT8ph_1FnP248ean5ImGSjfNEYGuTxl64h4A\",\n",
      "    \"name\": \"Doublelift\",\n",
      "    \"profileIconId\": 4568,\n",
      "    \"puuid\": \"X3b0Jpsc8SHrNUPEepECZ_RDUBavmqKup4vALoTY21GgZC405e0bLcD2hqFn5VULn3RJY1UnNpJ6oQ\",\n",
      "    \"revisionDate\": 1595568511000,\n",
      "    \"summonerLevel\": 197\n",
      "}\n"
     ]
    }
   ],
   "source": [
    "# Dependencies\n",
    "import requests\n",
    "import json\n",
    "\n",
    "# Google developer API key\n",
    "\n",
    "\n",
    "# Target city\n",
    "\n",
    "# Build the endpoint URL\n",
    "url = ('https://na1.api.riotgames.com/lol/summoner/v4/summoners/by-name/Doublelift?api_key=RGAPI-82bbea8e-f52a-4fb7-8c6c-7cdfb4ac42e4')\n",
    "response = requests.get(url).json()\n",
    "print(json.dumps(response, indent=4, sort_keys=True))"
   ]
  },
  {
   "cell_type": "code",
   "execution_count": null,
   "metadata": {},
   "outputs": [],
   "source": []
  }
 ],
 "metadata": {
  "kernelspec": {
   "display_name": "Python [conda env:PythonData] *",
   "language": "python",
   "name": "conda-env-PythonData-py"
  },
  "language_info": {
   "codemirror_mode": {
    "name": "ipython",
    "version": 3
   },
   "file_extension": ".py",
   "mimetype": "text/x-python",
   "name": "python",
   "nbconvert_exporter": "python",
   "pygments_lexer": "ipython3",
   "version": "3.6.10"
  }
 },
 "nbformat": 4,
 "nbformat_minor": 4
}
